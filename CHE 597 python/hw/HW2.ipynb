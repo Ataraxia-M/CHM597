{
 "cells": [
  {
   "cell_type": "markdown",
   "metadata": {
    "colab_type": "text",
    "id": "Hwuu8MHfbJyP",
    "toc": true
   },
   "source": [
    "<h1>Table of Contents<span class=\"tocSkip\"></span></h1>\n",
    "<div class=\"toc\"><ul class=\"toc-item\"><li><span><a href=\"#Numpy-Arrays\" data-toc-modified-id=\"Numpy-Arrays-1\"><span class=\"toc-item-num\">1&nbsp;&nbsp;</span>Numpy Arrays</a></span><ul class=\"toc-item\"><li><span><a href=\"#Initalizing-and-Manipulating-Arrays-(20/20)\" data-toc-modified-id=\"Initalizing-and-Manipulating-Arrays-(20/20)-1.1\"><span class=\"toc-item-num\">1.1&nbsp;&nbsp;</span>Initalizing and Manipulating Arrays (20/20)</a></span></li><li><span><a href=\"#Reading-in-data-(50/50)\" data-toc-modified-id=\"Reading-in-data-(50/50)-1.2\"><span class=\"toc-item-num\">1.2&nbsp;&nbsp;</span>Reading in data (50/50)</a></span></li><li><span><a href=\"#Calculate-Statistics-Across-Arrays-(20/20)\" data-toc-modified-id=\"Calculate-Statistics-Across-Arrays-(20/20)-1.3\"><span class=\"toc-item-num\">1.3&nbsp;&nbsp;</span>Calculate Statistics Across Arrays (20/20)</a></span></li><li><span><a href=\"#Plotting-Results-(10/10)\" data-toc-modified-id=\"Plotting-Results-(10/10)-1.4\"><span class=\"toc-item-num\">1.4&nbsp;&nbsp;</span>Plotting Results (10/10)</a></span></li></ul></li></ul></div>"
   ]
  },
  {
   "cell_type": "markdown",
   "metadata": {
    "colab_type": "text",
    "id": "x85mz3FCbJyR"
   },
   "source": [
    "# Homework 2 \n",
    "\n",
    "- You should consider any comments that start w/ hashtags (#) as an instruction or question for you to respond to.\n",
    "\n",
    "- All code should be executable from top-to-bottom. It is acceptable if a later code box depends on an earlier code box (e.g., if a function is defined early that is later utilized). \n",
    "\n",
    "- When writing programs which require other files, we will always put those files in the same directory as the python notebook that you are writing. \n",
    "\n",
    "<b>If you are using google colab you should save this notebook and any associated textfiles to their own folder on your google drive. Then you will need to adapt the following commands so that the notebook runs from the location of that folder.</b>\n"
   ]
  },
  {
   "cell_type": "code",
   "execution_count": null,
   "metadata": {
    "colab": {},
    "colab_type": "code",
    "id": "ROilA-3fbg8B"
   },
   "outputs": [],
   "source": [
    "from google.colab import drive\n",
    "drive.mount('/content/drive')\n",
    "\n",
    "# Colab command to navigate to the folder holding the homework,\n",
    "# CHANGE FOR YOUR SPECIFIC FOLDER LOCATION IN GOOGLE DRIVE\n",
    "# Note: if there are spaces in the path, you need to preceed them with a backslash '\\'\n",
    "%cd /content/drive/My\\ Drive/CHE597/Homework/HW-2"
   ]
  },
  {
   "cell_type": "markdown",
   "metadata": {
    "colab_type": "text",
    "id": "dHuyVjoYfnMB"
   },
   "source": [
    "## Numpy Arrays\n",
    "The following exercises involve manipulating individual data objects\n",
    "\n",
    "### Initalizing and Manipulating Arrays (20/20)"
   ]
  },
  {
   "cell_type": "code",
   "execution_count": null,
   "metadata": {},
   "outputs": [],
   "source": [
    "# import numpy with the namespace np\n"
   ]
  },
  {
   "cell_type": "code",
   "execution_count": null,
   "metadata": {
    "colab": {},
    "colab_type": "code",
    "id": "_cMeV9skf09v"
   },
   "outputs": [],
   "source": [
    "# Initialize an array of int64 zeros with dimensions 100 x 10. Assign it to the pointer \"a\".\n",
    "a = "
   ]
  },
  {
   "cell_type": "code",
   "execution_count": null,
   "metadata": {
    "colab": {},
    "colab_type": "code",
    "id": "jLcFh3fyoodL"
   },
   "outputs": [],
   "source": [
    "# Add 10 to all elements of the array \"a\"\n",
    "a = "
   ]
  },
  {
   "cell_type": "code",
   "execution_count": null,
   "metadata": {
    "colab": {},
    "colab_type": "code",
    "id": "0hQMmaRmoqTi"
   },
   "outputs": [],
   "source": [
    "# Add 100 to every other column of array \"a\"\n"
   ]
  },
  {
   "cell_type": "code",
   "execution_count": null,
   "metadata": {
    "colab": {},
    "colab_type": "code",
    "id": "AAhZAtywosdc"
   },
   "outputs": [],
   "source": [
    "# divide each column in \"a\" by the corresponding value in div.\n",
    "# print the result\n",
    "# Note: I am asking you to modify the elements in the array \"a\" not create a new array\n",
    "div = [4.2126, 5.1866, 3.9041, 0.3647, 8.0466, 1.6064, 2.5760, 4.9153, 0.7664, 0.1838]\n",
    "\n",
    "print(a)"
   ]
  },
  {
   "cell_type": "code",
   "execution_count": null,
   "metadata": {
    "colab": {},
    "colab_type": "code",
    "id": "PaDmiZbKovMF"
   },
   "outputs": [],
   "source": [
    "# replace the elements in \"a\" that are greater than 25 with 0\n",
    "# print the result\n",
    "# Note: I am asking you to modify the elements in the array \"a\" not create a new array\n",
    "\n",
    "print(a)"
   ]
  },
  {
   "cell_type": "markdown",
   "metadata": {
    "colab_type": "text",
    "id": "2H03icO6gtog"
   },
   "source": [
    "### Reading in data (50/50)"
   ]
  },
  {
   "cell_type": "code",
   "execution_count": null,
   "metadata": {
    "colab": {},
    "colab_type": "code",
    "id": "PYbdvH6ybJyR"
   },
   "outputs": [],
   "source": [
    "# Read in the file reactor.txt and assign it to the pointer \"b\"\n",
    "# NOTE: whatever method you use to read the file should not result in NaN values in the array\n",
    "b = \n",
    "print(b)"
   ]
  },
  {
   "cell_type": "code",
   "execution_count": null,
   "metadata": {},
   "outputs": [],
   "source": [
    "# The array that b points to has time data in the first column and impurity data in the second column\n",
    "# Calculate the mean of the impurity over time (use your method of choice) and print the value\n",
    "mean = \n",
    "print(mean)"
   ]
  },
  {
   "cell_type": "code",
   "execution_count": null,
   "metadata": {},
   "outputs": [],
   "source": [
    "# Calculate the population standard deviation of the impurity over time (use your method of choice) and print the value\n",
    "std = \n",
    "print(std)"
   ]
  },
  {
   "cell_type": "code",
   "execution_count": null,
   "metadata": {},
   "outputs": [],
   "source": [
    "# Calculate the running mean of impurity over 31 minute centered windows (15 minutes ahead and 15 minutes behind).\n",
    "# For times less than 15 minutes you should use 15 minutes ahead, but less than 15 minutes behind.\n",
    "# For times greater than -15 minutes you should use 15 minutes behind, but less than 15 minutes ahead.\n"
   ]
  },
  {
   "cell_type": "code",
   "execution_count": null,
   "metadata": {},
   "outputs": [],
   "source": [
    "# Make a plot with the raw impurity vs time data and the window averaged data (from previous cell) on the same set of axes. \n",
    "# Label the axes and include a legend.\n"
   ]
  },
  {
   "cell_type": "code",
   "execution_count": null,
   "metadata": {
    "colab": {},
    "colab_type": "code",
    "id": "PdpkvrCMpE0V"
   },
   "outputs": [],
   "source": [
    "# The file mult_reactors.txt has time vs impurity data for several reactors\n",
    "# Inspect the file.\n",
    "# Write your own parser that reads each reactor's data into a separate array\n",
    "# and assigns these arrays to a dictionary.\n",
    "# NOTE: np.genfromtxt() and np.loadtxt() will not work for this task\n",
    "\n",
    "print(reactors)"
   ]
  },
  {
   "cell_type": "markdown",
   "metadata": {},
   "source": [
    "### Calculate Statistics Across Arrays (20/20)"
   ]
  },
  {
   "cell_type": "code",
   "execution_count": null,
   "metadata": {
    "colab": {},
    "colab_type": "code",
    "id": "n2hc02vQpIKn"
   },
   "outputs": [],
   "source": [
    "# Calculate and print the mean of the impurity concentration from each reactor"
   ]
  },
  {
   "cell_type": "code",
   "execution_count": null,
   "metadata": {},
   "outputs": [],
   "source": [
    "# Calculate and print the standard deviation of the impurity concentration from each reactor"
   ]
  },
  {
   "cell_type": "code",
   "execution_count": null,
   "metadata": {},
   "outputs": [],
   "source": [
    "# Calculate and print the mean impurity concentration across reactors (mean of means):"
   ]
  },
  {
   "cell_type": "code",
   "execution_count": null,
   "metadata": {},
   "outputs": [],
   "source": [
    "# Calculate and print the standard deviation of the mean impurity concentration across the reactors (std of means):"
   ]
  },
  {
   "cell_type": "markdown",
   "metadata": {},
   "source": [
    "### Plotting Results (10/10)"
   ]
  },
  {
   "cell_type": "code",
   "execution_count": null,
   "metadata": {},
   "outputs": [],
   "source": [
    "# Make a plot with the impurity vs time data from each reactor:\n",
    "# Label the axes\n",
    "# Label each dataset and include a legend."
   ]
  }
 ],
 "metadata": {
  "colab": {
   "collapsed_sections": [],
   "name": "HW1.ipynb",
   "provenance": []
  },
  "kernelspec": {
   "display_name": "Python 3",
   "language": "python",
   "name": "python3"
  },
  "language_info": {
   "codemirror_mode": {
    "name": "ipython",
    "version": 3
   },
   "file_extension": ".py",
   "mimetype": "text/x-python",
   "name": "python",
   "nbconvert_exporter": "python",
   "pygments_lexer": "ipython3",
   "version": "3.7.1"
  },
  "toc": {
   "base_numbering": 1,
   "nav_menu": {},
   "number_sections": true,
   "sideBar": true,
   "skip_h1_title": true,
   "title_cell": "Table of Contents",
   "title_sidebar": "Contents",
   "toc_cell": true,
   "toc_position": {},
   "toc_section_display": true,
   "toc_window_display": true
  }
 },
 "nbformat": 4,
 "nbformat_minor": 1
}
