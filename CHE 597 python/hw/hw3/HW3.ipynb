{
 "cells": [
  {
   "cell_type": "markdown",
   "metadata": {
    "colab_type": "text",
    "id": "Hwuu8MHfbJyP",
    "toc": true
   },
   "source": [
    "<h1>Table of Contents<span class=\"tocSkip\"></span></h1>\n",
    "<div class=\"toc\"><ul class=\"toc-item\"><li><span><a href=\"#Pandas-Dataframes\" data-toc-modified-id=\"Pandas-Dataframes-1\"><span class=\"toc-item-num\">1&nbsp;&nbsp;</span>Pandas Dataframes</a></span><ul class=\"toc-item\"><li><span><a href=\"#Filtering-Dataframes-(50/50)\" data-toc-modified-id=\"Filtering-Dataframes-(50/50)-1.1\"><span class=\"toc-item-num\">1.1&nbsp;&nbsp;</span>Filtering Dataframes (50/50)</a></span></li><li><span><a href=\"#Plotting-Dataframes-(10/10)\" data-toc-modified-id=\"Plotting-Dataframes-(10/10)-1.2\"><span class=\"toc-item-num\">1.2&nbsp;&nbsp;</span>Plotting Dataframes (10/10)</a></span></li><li><span><a href=\"#Dataframe-Statistics-(40/40)\" data-toc-modified-id=\"Dataframe-Statistics-(40/40)-1.3\"><span class=\"toc-item-num\">1.3&nbsp;&nbsp;</span>Dataframe Statistics (40/40)</a></span></li></ul></li></ul></div>"
   ]
  },
  {
   "cell_type": "markdown",
   "metadata": {
    "colab_type": "text",
    "id": "x85mz3FCbJyR"
   },
   "source": [
    "# Homework 3 \n",
    "\n",
    "- You should consider any comments which start w/ hashtags (#) as an instruction or question for you to respond to.\n",
    "\n",
    "- All code should be executable from top-to-bottom. It is acceptable if a later code box depends on an earlier code box (e.g., if a function is defined early that is later utilized). \n",
    "\n",
    "- When writing programs which require other files we will always put those files in the same directory as the python notebook that you are writing. \n",
    "\n",
    "<b>If you are using google colab you should save this notebook and any associated textfiles to their own folder on your google drive. Then you will need to adapt the following commands so that the notebook runs from the location of that folder.</b>\n"
   ]
  },
  {
   "cell_type": "code",
   "execution_count": null,
   "metadata": {
    "colab": {},
    "colab_type": "code",
    "id": "ROilA-3fbg8B"
   },
   "outputs": [],
   "source": [
    "from google.colab import drive\n",
    "drive.mount('/content/drive')\n",
    "\n",
    "# Colab command to navigate to the folder holding the homework,\n",
    "# CHANGE FOR YOUR SPECIFIC FOLDER LOCATION IN GOOGLE DRIVE\n",
    "# Note: if there are spaces in the path, you need to preceed them with a backslash '\\'\n",
    "%cd /content/drive/My\\ Drive/CHE597/Homework/HW-1"
   ]
  },
  {
   "cell_type": "markdown",
   "metadata": {
    "colab_type": "text",
    "id": "dHuyVjoYfnMB"
   },
   "source": [
    "## Pandas Dataframes\n",
    "\n",
    "### Filtering Dataframes (50/50)\n",
    "The following exercises involve initializing and filtering pandas dataframes"
   ]
  },
  {
   "cell_type": "code",
   "execution_count": null,
   "metadata": {},
   "outputs": [],
   "source": [
    "# 1: import numpy, pandas, and matplotlib.pyplot with the namespaces np, pd, and plt\n"
   ]
  },
  {
   "cell_type": "code",
   "execution_count": null,
   "metadata": {
    "colab": {},
    "colab_type": "code",
    "id": "_cMeV9skf09v"
   },
   "outputs": [],
   "source": [
    "# 2: Import the csv data from reaction_data.txt using column 0 as the row index and assign it to the pointer df\n",
    "df = "
   ]
  },
  {
   "cell_type": "code",
   "execution_count": null,
   "metadata": {
    "colab": {},
    "colab_type": "code",
    "id": "jLcFh3fyoodL"
   },
   "outputs": [],
   "source": [
    "# 3: Determine how many rows contain missing data (anywhere in the row)\n",
    "#    HINT: Remember that you can chain methods together\n",
    "#    HINT: the .any(axis=0/1) method can be used to return a series with True/False if \"any\" values are True/False\n",
    "#          along a given colummn or row, respectively. You don't have to use this, but I think it is useful.\n"
   ]
  },
  {
   "cell_type": "code",
   "execution_count": null,
   "metadata": {
    "colab": {},
    "colab_type": "code",
    "id": "0hQMmaRmoqTi"
   },
   "outputs": [],
   "source": [
    "# 4: Use pandas methods/functions to determine which column(s) in df contain missing values\n"
   ]
  },
  {
   "cell_type": "code",
   "execution_count": null,
   "metadata": {},
   "outputs": [],
   "source": [
    "# 5: Sort df inplace by reaction type, temperature, and yield (in that order) so that all of \n",
    "#    the reactions of the same type are together and sorted by temperature and yield (in ascending order). \n"
   ]
  },
  {
   "cell_type": "code",
   "execution_count": null,
   "metadata": {
    "colab": {},
    "colab_type": "code",
    "id": "PaDmiZbKovMF"
   },
   "outputs": [],
   "source": [
    "# 6: Replace the missing yield(%) values with the yield value of another reaction of the same type, \n",
    "#    at the nearest available temperature, and with the highest yield.\n",
    "#    Hint: can be done in a single line if previous problem was done correctly\n"
   ]
  },
  {
   "cell_type": "code",
   "execution_count": null,
   "metadata": {},
   "outputs": [],
   "source": [
    "# 7: Create a series with labels corresponding to each reaction type and values\n",
    "#    corresponding to the number of times each reaction was performed. \n",
    "#vals = { _:len(df[\"type\"]) for _ in df[\"type\"].unique() }\n"
   ]
  },
  {
   "cell_type": "markdown",
   "metadata": {},
   "source": [
    "<b>Answer the following based on the results of the above cell (double-click here to add your answers):</b>\n",
    "- Which reaction type was performed the most? \n",
    "- Which reaction type was performed the least? \n",
    "\n",
    "### Plotting Dataframes (10/10)"
   ]
  },
  {
   "cell_type": "code",
   "execution_count": null,
   "metadata": {
    "scrolled": true
   },
   "outputs": [],
   "source": [
    "# 8: Make a bar plot with each reaction type along x and the number of number of times it was performed along y, \n",
    "#    with the bars in ascending order. \n"
   ]
  },
  {
   "cell_type": "code",
   "execution_count": null,
   "metadata": {},
   "outputs": [],
   "source": [
    "# 9: Make a bar plot with the mean yield for each reaction type.\n",
    "#    Make the plot so that the bars are in descending order\n"
   ]
  },
  {
   "cell_type": "markdown",
   "metadata": {},
   "source": [
    "<b>Answer the following based on the result of the above cell (double-click here to add your answers):</b>\n",
    "- Which reaction type had the highest average yield? \n",
    "- Which reaction type had the lowest average yield? \n",
    "\n",
    "### Dataframe Statistics (40/40)\n",
    "The following problems will use the data in `Hvap.txt`. It compares reference values for the enthalpy of vaporization of several small molecules at various temperatures. The `Hvap_ref` column corresponds to the trusted value, the predictions of three other methods (`Method_1`,`Method_2`,and `Method_3`) are also included. Predictions for some of the methods will be missing for certain molecules/temperatures. "
   ]
  },
  {
   "cell_type": "code",
   "execution_count": null,
   "metadata": {},
   "outputs": [],
   "source": [
    "# 10: Import the csv data from Hvap.txt using column 0 as the row index and assign it to the pointer hvap\n",
    "hvap = "
   ]
  },
  {
   "cell_type": "markdown",
   "metadata": {},
   "source": [
    "If you investigate your dataframe you will see that hvap has reference data for the heat of vaporization of several compounds at various temperatures. It also supplies a comparison of the heat of vaporization predictions for three methods (\"Method_1\", \"Method_2\", and \"Method_3\"). However, some of the methods are only available for a subset of the references (i.e., there are missing values). "
   ]
  },
  {
   "cell_type": "code",
   "execution_count": null,
   "metadata": {},
   "outputs": [],
   "source": [
    "# 11: Use slicing to find the rows in the dataframe where method_1, method_2, and method_3 are all present and print them out.\n"
   ]
  },
  {
   "cell_type": "code",
   "execution_count": null,
   "metadata": {},
   "outputs": [],
   "source": [
    "# 12: Calculate the mean absolute error ((MAE, <|method-ref|>) and mean signed error (MSE, <method-ref>)\n",
    "#     Use all of the non-NaN values for each method and print the result.\n"
   ]
  },
  {
   "cell_type": "code",
   "execution_count": null,
   "metadata": {},
   "outputs": [],
   "source": [
    "# 13: On the molecules and temperatures where all three methods have values\n",
    "#     calculate the MAE and MSE for each method and print the result\n",
    "#     Note: in the previous problem you calculated MAE and MSE for the values where each method had non-NaN;\n",
    "#           in this problem you will calculate these quantities only for the samples where *all* methods have non-NaN.\n"
   ]
  },
  {
   "cell_type": "markdown",
   "metadata": {},
   "source": [
    "The MAE is a measure of average error, and the MSE is a measure of the systematic bias.\n",
    "\n",
    "<b>Answer the following based on the results of the above cells (double-click here to add your answers):</b>\n",
    "- According to the analysis of all of the data, do the methods typically over or underpredict the true value? \n",
    "- According to the analysis of samples where all methods were used, which method has the highest MAE? \n",
    "- In one or two sentences tell me why it is difficult to determine which method is \"best\"."
   ]
  },
  {
   "cell_type": "code",
   "execution_count": null,
   "metadata": {},
   "outputs": [],
   "source": [
    "# 14: Make a parity/correlation plot (a scatter plot with reference values on x and each method's predictions on y).\n",
    "#     Put all three datasets on one plot (use all data, not just the compounds where all methods were measured for each)\n",
    "#     Include a legend, and label the axes\n"
   ]
  },
  {
   "cell_type": "code",
   "execution_count": null,
   "metadata": {},
   "outputs": [],
   "source": [
    "# 15: Inspecting the plot you will see a couple clear outliers at low Hvap_ref. \n",
    "#     Print out the five data points with the largest absolute error for each method\n"
   ]
  },
  {
   "cell_type": "markdown",
   "metadata": {},
   "source": [
    "<b>Answer the following based on the results of the above cells (double-click here to add your answers):</b>\n",
    "- Which compound exhibits the highest error in all methods? \n",
    "- Compare the list of high error compounds for methods 1 and 2 with those of method 3. In one or two sentences, tell me why it might be difficult to accurately judge the true performance of method 3. "
   ]
  },
  {
   "cell_type": "code",
   "execution_count": null,
   "metadata": {},
   "outputs": [],
   "source": [
    "# 16: Make a correlation/parity plot that for the samples where all methods report values. \n",
    "#     Put all three datasets on one plot\n",
    "#     Include a legend, and label the axes\n"
   ]
  }
 ],
 "metadata": {
  "colab": {
   "collapsed_sections": [],
   "name": "HW1.ipynb",
   "provenance": []
  },
  "kernelspec": {
   "display_name": "Python 3",
   "language": "python",
   "name": "python3"
  },
  "language_info": {
   "codemirror_mode": {
    "name": "ipython",
    "version": 3
   },
   "file_extension": ".py",
   "mimetype": "text/x-python",
   "name": "python",
   "nbconvert_exporter": "python",
   "pygments_lexer": "ipython3",
   "version": "3.7.1"
  },
  "toc": {
   "base_numbering": 1,
   "nav_menu": {},
   "number_sections": true,
   "sideBar": true,
   "skip_h1_title": true,
   "title_cell": "Table of Contents",
   "title_sidebar": "Contents",
   "toc_cell": true,
   "toc_position": {},
   "toc_section_display": true,
   "toc_window_display": true
  }
 },
 "nbformat": 4,
 "nbformat_minor": 1
}
