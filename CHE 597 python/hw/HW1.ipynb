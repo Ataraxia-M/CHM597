{
 "cells": [
  {
   "cell_type": "markdown",
   "metadata": {
    "colab_type": "text",
    "id": "Hwuu8MHfbJyP",
    "toc": true
   },
   "source": [
    "<h1>Table of Contents<span class=\"tocSkip\"></span></h1>\n",
    "<div class=\"toc\"><ul class=\"toc-item\"><li><span><a href=\"#Data-Types\" data-toc-modified-id=\"Data-Types-1\"><span class=\"toc-item-num\">1&nbsp;&nbsp;</span>Data Types</a></span><ul class=\"toc-item\"><li><span><a href=\"#Strings\" data-toc-modified-id=\"Strings-1.1\"><span class=\"toc-item-num\">1.1&nbsp;&nbsp;</span>Strings</a></span></li><li><span><a href=\"#Floats\" data-toc-modified-id=\"Floats-1.2\"><span class=\"toc-item-num\">1.2&nbsp;&nbsp;</span>Floats</a></span></li></ul></li><li><span><a href=\"#Data-Structures\" data-toc-modified-id=\"Data-Structures-2\"><span class=\"toc-item-num\">2&nbsp;&nbsp;</span>Data Structures</a></span><ul class=\"toc-item\"><li><span><a href=\"#Lists\" data-toc-modified-id=\"Lists-2.1\"><span class=\"toc-item-num\">2.1&nbsp;&nbsp;</span>Lists</a></span></li><li><span><a href=\"#sets\" data-toc-modified-id=\"sets-2.2\"><span class=\"toc-item-num\">2.2&nbsp;&nbsp;</span>sets</a></span></li><li><span><a href=\"#Dictionaries\" data-toc-modified-id=\"Dictionaries-2.3\"><span class=\"toc-item-num\">2.3&nbsp;&nbsp;</span>Dictionaries</a></span></li></ul></li><li><span><a href=\"#Functions\" data-toc-modified-id=\"Functions-3\"><span class=\"toc-item-num\">3&nbsp;&nbsp;</span>Functions</a></span></li></ul></div>"
   ]
  },
  {
   "cell_type": "markdown",
   "metadata": {
    "colab_type": "text",
    "id": "x85mz3FCbJyR"
   },
   "source": [
    "# Homework 1\n",
    "\n",
    "- You should consider any comments which start w/ hashtags (#) as an instruction or question for you to respond to.\n",
    "\n",
    "- All code should be executable from top-to-bottom. It is acceptable if a later code box depends on an earlier code box (e.g., if a function is defined early that is later utilized). \n",
    "\n",
    "- When writing programs which require other files we will always put those files in the same directory as the python notebook that you are writing. \n",
    "\n",
    "<b>If you are using google colab you should save this notebook and any associated textfiles to their own folder on your google drive. Then you will need to adapt the following commands so that the notebook runs from the location of that folder.</b>\n"
   ]
  },
  {
   "cell_type": "code",
   "execution_count": 0,
   "metadata": {
    "colab": {},
    "colab_type": "code",
    "id": "ROilA-3fbg8B"
   },
   "outputs": [],
   "source": [
    "from google.colab import drive\n",
    "drive.mount('/content/drive')\n",
    "\n",
    "# Colab command to navigate to the folder holding the homework,\n",
    "# CHANGE FOR YOUR SPECIFIC FOLDER LOCATION IN GOOGLE DRIVE\n",
    "# Note: if there are spaces in the path, you need to preceed them with a backslash '\\'\n",
    "%cd /content/drive/My\\ Drive/CHE597/Homework/HW-1"
   ]
  },
  {
   "cell_type": "markdown",
   "metadata": {
    "colab_type": "text",
    "id": "dHuyVjoYfnMB"
   },
   "source": [
    "## Data Types\n",
    "The following exercises involve manipulating individual data objects\n",
    "\n",
    "### Strings"
   ]
  },
  {
   "cell_type": "code",
   "execution_count": 0,
   "metadata": {
    "colab": {},
    "colab_type": "code",
    "id": "_cMeV9skf09v"
   },
   "outputs": [],
   "source": [
    "# Assign the following pointer to your first name\n",
    "firstname = "
   ]
  },
  {
   "cell_type": "code",
   "execution_count": 0,
   "metadata": {
    "colab": {},
    "colab_type": "code",
    "id": "jLcFh3fyoodL"
   },
   "outputs": [],
   "source": [
    "# Assign the following pointer to your last name\n",
    "lastname = "
   ]
  },
  {
   "cell_type": "code",
   "execution_count": 0,
   "metadata": {
    "colab": {},
    "colab_type": "code",
    "id": "0hQMmaRmoqTi"
   },
   "outputs": [],
   "source": [
    "# Use firstname and lastname to make a new string with your fullname\n",
    "fullname = "
   ]
  },
  {
   "cell_type": "code",
   "execution_count": 0,
   "metadata": {
    "colab": {},
    "colab_type": "code",
    "id": "AAhZAtywosdc"
   },
   "outputs": [],
   "source": [
    "# print your fullname with all lowercase letters using the strings defined above\n",
    "print()"
   ]
  },
  {
   "cell_type": "code",
   "execution_count": 0,
   "metadata": {
    "colab": {},
    "colab_type": "code",
    "id": "PaDmiZbKovMF"
   },
   "outputs": [],
   "source": [
    "# print your fullname with the first letter of each name capitalized using the strings defined above\n",
    "print()"
   ]
  },
  {
   "cell_type": "markdown",
   "metadata": {
    "colab_type": "text",
    "id": "2H03icO6gtog"
   },
   "source": [
    "### Floats"
   ]
  },
  {
   "cell_type": "code",
   "execution_count": 0,
   "metadata": {
    "colab": {},
    "colab_type": "code",
    "id": "PYbdvH6ybJyR"
   },
   "outputs": [],
   "source": [
    "# Assign your favorite number as a float (fav)\n",
    "fav = \n",
    "print(\"fav = {}\".format(fav))"
   ]
  },
  {
   "cell_type": "code",
   "execution_count": 0,
   "metadata": {
    "colab": {},
    "colab_type": "code",
    "id": "PdpkvrCMpE0V"
   },
   "outputs": [],
   "source": [
    "# Assign your least favorite number as a float (wst)\n",
    "wst = \n",
    "print(\"wst = {}\".format(wst))"
   ]
  },
  {
   "cell_type": "code",
   "execution_count": 0,
   "metadata": {
    "colab": {},
    "colab_type": "code",
    "id": "n2hc02vQpIKn"
   },
   "outputs": [],
   "source": [
    "# Print the sum of fav and wst\n",
    "print()"
   ]
  },
  {
   "cell_type": "code",
   "execution_count": 0,
   "metadata": {
    "colab": {},
    "colab_type": "code",
    "id": "CWi8T2nKpO3G"
   },
   "outputs": [],
   "source": [
    "# Print the fav minus wst\n",
    "print()"
   ]
  },
  {
   "cell_type": "code",
   "execution_count": 0,
   "metadata": {
    "colab": {},
    "colab_type": "code",
    "id": "VWwdyD-vpS5L"
   },
   "outputs": [],
   "source": [
    "# Print the product of fav and wst\n",
    "print()"
   ]
  },
  {
   "cell_type": "code",
   "execution_count": 0,
   "metadata": {
    "colab": {},
    "colab_type": "code",
    "id": "NdAkgkqSpWz_"
   },
   "outputs": [],
   "source": [
    "# Print fav divided by wst\n",
    "print()"
   ]
  },
  {
   "cell_type": "code",
   "execution_count": 0,
   "metadata": {
    "colab": {},
    "colab_type": "code",
    "id": "nQ1DdMszpbfb"
   },
   "outputs": [],
   "source": [
    "# Print fav to the wst power\n",
    "print()"
   ]
  },
  {
   "cell_type": "code",
   "execution_count": 0,
   "metadata": {
    "colab": {},
    "colab_type": "code",
    "id": "2_QsxLeVpej-"
   },
   "outputs": [],
   "source": [
    "# Print the remainder of fav divided by wst\n",
    "print()"
   ]
  },
  {
   "cell_type": "markdown",
   "metadata": {
    "colab_type": "text",
    "id": "c49YSBGjjCm_"
   },
   "source": [
    "## Data Structures\n",
    "The following exercises involve manipulating, creating, and finding things in data structures. \n",
    "\n",
    "### Lists"
   ]
  },
  {
   "cell_type": "code",
   "execution_count": 0,
   "metadata": {
    "colab": {},
    "colab_type": "code",
    "id": "mQLV54CQjSco"
   },
   "outputs": [],
   "source": [
    "# Here are a couple lists that we will use\n",
    "a = [1,0,0,0,3,4,2]\n",
    "b = [5,3,1,1,1,0,2,0,0,0,20]"
   ]
  },
  {
   "cell_type": "code",
   "execution_count": 0,
   "metadata": {
    "colab": {},
    "colab_type": "code",
    "id": "1l5orhUnjtKn"
   },
   "outputs": [],
   "source": [
    "# Sort list a and print the result"
   ]
  },
  {
   "cell_type": "code",
   "execution_count": 0,
   "metadata": {
    "colab": {},
    "colab_type": "code",
    "id": "s1BFel99jvU-"
   },
   "outputs": [],
   "source": [
    "# Sort list b in descending order and print the result"
   ]
  },
  {
   "cell_type": "code",
   "execution_count": 0,
   "metadata": {
    "colab": {},
    "colab_type": "code",
    "id": "3bU4rZ9VjxrQ"
   },
   "outputs": [],
   "source": [
    "# Create a new list c comprised of all of the elements of a and b and sorted in ascending order. print c.\n",
    "c = \n",
    "print(c)"
   ]
  },
  {
   "cell_type": "code",
   "execution_count": 0,
   "metadata": {
    "colab": {},
    "colab_type": "code",
    "id": "BEKmqJJPkJ3t"
   },
   "outputs": [],
   "source": [
    "# Create a new list d consisting of the last four elements of c\n",
    "d = \n",
    "print(d)"
   ]
  },
  {
   "cell_type": "code",
   "execution_count": 0,
   "metadata": {
    "colab": {},
    "colab_type": "code",
    "id": "rB2wm1LRkZqo"
   },
   "outputs": [],
   "source": [
    "# Using a list comprehension: make a new list e that contains the indices\n",
    "# in a that correspond to 0\n",
    "e = []\n",
    "print(e)"
   ]
  },
  {
   "cell_type": "code",
   "execution_count": 0,
   "metadata": {
    "colab": {},
    "colab_type": "code",
    "id": "MG1OTG8ekkOD"
   },
   "outputs": [],
   "source": [
    "# Using a list comprehension: make a new list f that contains the numbers\n",
    "# in b that are greater than 0 and less than 10\n",
    "f = []\n",
    "print(f)"
   ]
  },
  {
   "cell_type": "markdown",
   "metadata": {
    "colab_type": "text",
    "id": "-OjNsIjelmpk"
   },
   "source": [
    "### sets"
   ]
  },
  {
   "cell_type": "code",
   "execution_count": 0,
   "metadata": {
    "colab": {},
    "colab_type": "code",
    "id": "ISQO1NEklowA"
   },
   "outputs": [],
   "source": [
    "# create sets g and h from lists a and b\n",
    "g = \n",
    "h = \n",
    "print(g)\n",
    "print(h)"
   ]
  },
  {
   "cell_type": "code",
   "execution_count": 0,
   "metadata": {
    "colab": {},
    "colab_type": "code",
    "id": "xrs0chgXmMpC"
   },
   "outputs": [],
   "source": [
    "# Use the approriate set method to print out the numbers that are only in g and not in h"
   ]
  },
  {
   "cell_type": "code",
   "execution_count": 0,
   "metadata": {
    "colab": {},
    "colab_type": "code",
    "id": "HHzlVGtRmYCi"
   },
   "outputs": [],
   "source": [
    "# Use the approriate set method to print out the numbers that are only in h and not in g"
   ]
  },
  {
   "cell_type": "code",
   "execution_count": 0,
   "metadata": {
    "colab": {},
    "colab_type": "code",
    "id": "JvNiFP3ym7LT"
   },
   "outputs": [],
   "source": [
    "# Create a new set i that combines the elements in g and h\n",
    "i = \n",
    "print(i)"
   ]
  },
  {
   "cell_type": "code",
   "execution_count": 0,
   "metadata": {
    "colab": {},
    "colab_type": "code",
    "id": "KtVpha-pl4K5"
   },
   "outputs": [],
   "source": [
    "# Using set methods print out the numbers that are in both g and h\n",
    "print()"
   ]
  },
  {
   "cell_type": "markdown",
   "metadata": {
    "colab_type": "text",
    "id": "5hwwW1KNnCau"
   },
   "source": [
    "### Dictionaries"
   ]
  },
  {
   "cell_type": "code",
   "execution_count": 0,
   "metadata": {
    "colab": {},
    "colab_type": "code",
    "id": "w1fFA2v_nFff"
   },
   "outputs": [],
   "source": [
    "# Using a for loop: create a dictionary j based on the following keys and values\n",
    "keys = [\"one\",\"two\",\"three\"]\n",
    "values = [1,2,3]\n",
    "j = { }\n",
    "# your code #\n",
    "print(j)"
   ]
  },
  {
   "cell_type": "code",
   "execution_count": 0,
   "metadata": {
    "colab": {},
    "colab_type": "code",
    "id": "5ZAx5Bhvn2_g"
   },
   "outputs": [],
   "source": [
    "# Create the same dictionary as j but use a dictionary comprehension instead \n",
    "k = { }\n",
    "print(k)"
   ]
  },
  {
   "cell_type": "code",
   "execution_count": 0,
   "metadata": {
    "colab": {},
    "colab_type": "code",
    "id": "hScbYzKlqCs2"
   },
   "outputs": [],
   "source": [
    "# Create a loop over the keys in k and print out the corresponding values as floats\n"
   ]
  },
  {
   "cell_type": "markdown",
   "metadata": {
    "colab_type": "text",
    "id": "ziY-HBCMqPzX"
   },
   "source": [
    "## Functions\n",
    "The following exercises ask you to write your own functions. They will be tested on generic input arguments. "
   ]
  },
  {
   "cell_type": "code",
   "execution_count": 0,
   "metadata": {
    "colab": {},
    "colab_type": "code",
    "id": "HML8WRRSqfby"
   },
   "outputs": [],
   "source": [
    "# Write a function named 'factorial' that prints the factorial of an arbitrary integer\n",
    "# YOU ARE NOT ALLOWED TO USE ANY BUILT IN FACTORIAL FUNCTIONS TO DO THIS, WRITE YOUR OWN.\n",
    "def factorial(num):"
   ]
  },
  {
   "cell_type": "code",
   "execution_count": 0,
   "metadata": {
    "colab": {},
    "colab_type": "code",
    "id": "xziYlRt0qorK"
   },
   "outputs": [],
   "source": [
    "# Modify the previous factorial function so that it returns 0 if num is larger than 100\n",
    "def factorial(num):"
   ]
  },
  {
   "cell_type": "code",
   "execution_count": 0,
   "metadata": {
    "colab": {},
    "colab_type": "code",
    "id": "L3RLOkCWsjnY"
   },
   "outputs": [],
   "source": [
    "# Write a function that reads a file and returns all of the numbers in it as a list of floats\n",
    "# Note: The function should be able to identify numbers like \"1098293,\" that have a comma or other character after them\n",
    "# Hint: The \"try\" control statement is very useful for something like this.\n",
    "def get_numbers(name):"
   ]
  },
  {
   "cell_type": "code",
   "execution_count": 0,
   "metadata": {
    "colab": {},
    "colab_type": "code",
    "id": "ll61JeWus2j4"
   },
   "outputs": [],
   "source": [
    "# Test your get_numbers function on the 'benzene_SDS.txt' file supplied with the homework\n",
    "numbers = get_numbers('benzene_SDS.txt')\n",
    "print(numbers)"
   ]
  },
  {
   "cell_type": "code",
   "execution_count": 0,
   "metadata": {
    "colab": {},
    "colab_type": "code",
    "id": "OCIRu9Fhrnrf"
   },
   "outputs": [],
   "source": [
    "# Write a function that accepts a filename and list of strings as inputs and \n",
    "# returns a boolean indicating if any of the strings are in the file.\n",
    "# Note: the function should only return True is both string and case match.\n",
    "def word_search(name,match):"
   ]
  },
  {
   "cell_type": "code",
   "execution_count": 0,
   "metadata": {
    "colab": {},
    "colab_type": "code",
    "id": "1tTgABFKxOoF"
   },
   "outputs": [],
   "source": [
    "# Test your word_search function on the 'benzene_SDS.txt' file supplied with the homework \n",
    "# with the following input strings\n",
    "print(word_search('benzene_SDS.txt',[\"the\"]))\n",
    "print(word_search('benzene_SDS.txt',[\"Lethal\"]))\n",
    "print(word_search('benzene_SDS.txt',[\"canada\"]))"
   ]
  },
  {
   "cell_type": "code",
   "execution_count": 0,
   "metadata": {
    "colab": {},
    "colab_type": "code",
    "id": "Y2uh_kCXymN-"
   },
   "outputs": [],
   "source": [
    "# Modify your word_search function with an optional argument so that it returns \n",
    "# case-insensitive matches\n",
    "def word_search(name,match,case_insensitive=False):\n"
   ]
  },
  {
   "cell_type": "code",
   "execution_count": 0,
   "metadata": {
    "colab": {},
    "colab_type": "code",
    "id": "7KzMbGruzbuI"
   },
   "outputs": [],
   "source": [
    "# Test your modified word_search function on the 'benzene_SDS.txt' file supplied with the homework\n",
    "# with the following input strings\n",
    "print(word_search('benzene_SDS.txt',[\"canada\"],case_insensitive=False))\n",
    "print(word_search('benzene_SDS.txt',[\"Canada\"],case_insensitive=False))\n",
    "print(word_search('benzene_SDS.txt',[\"canada\"],case_insensitive=True))\n",
    "print(word_search('benzene_SDS.txt',[\"Canada\"],case_insensitive=True))\n",
    "print(word_search('benzene_SDS.txt',[\"cantfindme!\"],case_insensitive=True))"
   ]
  }
 ],
 "metadata": {
  "colab": {
   "collapsed_sections": [],
   "name": "HW1.ipynb",
   "provenance": []
  },
  "kernelspec": {
   "display_name": "Python 3",
   "language": "python",
   "name": "python3"
  },
  "language_info": {
   "codemirror_mode": {
    "name": "ipython",
    "version": 3
   },
   "file_extension": ".py",
   "mimetype": "text/x-python",
   "name": "python",
   "nbconvert_exporter": "python",
   "pygments_lexer": "ipython3",
   "version": "3.7.1"
  },
  "toc": {
   "base_numbering": 1,
   "nav_menu": {},
   "number_sections": true,
   "sideBar": true,
   "skip_h1_title": true,
   "title_cell": "Table of Contents",
   "title_sidebar": "Contents",
   "toc_cell": true,
   "toc_position": {},
   "toc_section_display": true,
   "toc_window_display": true
  }
 },
 "nbformat": 4,
 "nbformat_minor": 1
}
