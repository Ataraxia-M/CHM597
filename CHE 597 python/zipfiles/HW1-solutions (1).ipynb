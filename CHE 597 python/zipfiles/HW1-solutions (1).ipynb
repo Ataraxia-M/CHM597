{
 "cells": [
  {
   "cell_type": "markdown",
   "metadata": {
    "colab_type": "text",
    "id": "Hwuu8MHfbJyP",
    "toc": true
   },
   "source": [
    "<h1>Table of Contents<span class=\"tocSkip\"></span></h1>\n",
    "<div class=\"toc\"><ul class=\"toc-item\"><li><span><a href=\"#Data-Types\" data-toc-modified-id=\"Data-Types-1\"><span class=\"toc-item-num\">1&nbsp;&nbsp;</span>Data Types</a></span><ul class=\"toc-item\"><li><span><a href=\"#Strings\" data-toc-modified-id=\"Strings-1.1\"><span class=\"toc-item-num\">1.1&nbsp;&nbsp;</span>Strings</a></span></li><li><span><a href=\"#Floats\" data-toc-modified-id=\"Floats-1.2\"><span class=\"toc-item-num\">1.2&nbsp;&nbsp;</span>Floats</a></span></li></ul></li><li><span><a href=\"#Data-Structures\" data-toc-modified-id=\"Data-Structures-2\"><span class=\"toc-item-num\">2&nbsp;&nbsp;</span>Data Structures</a></span><ul class=\"toc-item\"><li><span><a href=\"#Lists\" data-toc-modified-id=\"Lists-2.1\"><span class=\"toc-item-num\">2.1&nbsp;&nbsp;</span>Lists</a></span></li></ul></li><li><span><a href=\"#sets\" data-toc-modified-id=\"sets-3\"><span class=\"toc-item-num\">3&nbsp;&nbsp;</span>sets</a></span><ul class=\"toc-item\"><li><span><a href=\"#Dictionaries\" data-toc-modified-id=\"Dictionaries-3.1\"><span class=\"toc-item-num\">3.1&nbsp;&nbsp;</span>Dictionaries</a></span></li></ul></li><li><span><a href=\"#Functions\" data-toc-modified-id=\"Functions-4\"><span class=\"toc-item-num\">4&nbsp;&nbsp;</span>Functions</a></span></li></ul></div>"
   ]
  },
  {
   "cell_type": "markdown",
   "metadata": {
    "colab_type": "text",
    "id": "x85mz3FCbJyR"
   },
   "source": [
    "# Homework\n",
    "\n",
    "- You should consider any comments which start w/ hashtags (#) as an instruction or question for you to respond to.\n",
    "\n",
    "- All code should be executable from top-to-bottom. It is acceptable if a later code box depends on an earlier code box (e.g., if a function is defined early that is later utilized). \n",
    "\n",
    "- When writing programs which require other files we will always put those files in the same directory as the python notebook that you are writing. \n",
    "\n",
    "<b>If you are using google colab you should save this notebook and any associated textfiles to their own folder on your google drive. Then you will need to adapt the following commands so that the notebook runs from the location of that folder.<b>\n"
   ]
  },
  {
   "cell_type": "code",
   "execution_count": 1,
   "metadata": {
    "colab": {
     "base_uri": "https://localhost:8080/",
     "height": 138
    },
    "colab_type": "code",
    "executionInfo": {
     "elapsed": 27493,
     "status": "ok",
     "timestamp": 1579370926426,
     "user": {
      "displayName": "Brett Savoie",
      "photoUrl": "",
      "userId": "11084403397391204350"
     },
     "user_tz": 300
    },
    "id": "ROilA-3fbg8B",
    "outputId": "da211621-c5e1-4d84-a905-d10605ad3d96"
   },
   "outputs": [
    {
     "name": "stdout",
     "output_type": "stream",
     "text": [
      "Go to this URL in a browser: https://accounts.google.com/o/oauth2/auth?client_id=947318989803-6bn6qk8qdgf4n4g3pfee6491hc0brc4i.apps.googleusercontent.com&redirect_uri=urn%3aietf%3awg%3aoauth%3a2.0%3aoob&response_type=code&scope=email%20https%3a%2f%2fwww.googleapis.com%2fauth%2fdocs.test%20https%3a%2f%2fwww.googleapis.com%2fauth%2fdrive%20https%3a%2f%2fwww.googleapis.com%2fauth%2fdrive.photos.readonly%20https%3a%2f%2fwww.googleapis.com%2fauth%2fpeopleapi.readonly\n",
      "\n",
      "Enter your authorization code:\n",
      "··········\n",
      "Mounted at /content/drive\n",
      "/content/drive/My Drive/CHE597/Homework/HW-1\n"
     ]
    }
   ],
   "source": [
    "from google.colab import drive\n",
    "drive.mount('/content/drive')\n",
    "\n",
    "# Colab command to navigate to the folder holding the homework,\n",
    "# CHANGE FOR YOUR SPECIFIC FOLDER LOCATION IN GOOGLE DRIVE\n",
    "# Note: if there are spaces in the path, you need to preceed them with a backslash '\\'\n",
    "%cd /content/drive/My\\ Drive/CHE597/Homework/HW-1"
   ]
  },
  {
   "cell_type": "markdown",
   "metadata": {
    "colab_type": "text",
    "id": "dHuyVjoYfnMB"
   },
   "source": [
    "## Data Types\n",
    "The following exercises involve manipulating individual data objects\n",
    "\n",
    "### Strings"
   ]
  },
  {
   "cell_type": "code",
   "execution_count": 0,
   "metadata": {
    "colab": {},
    "colab_type": "code",
    "id": "_cMeV9skf09v"
   },
   "outputs": [],
   "source": [
    "# Assign the following pointer to your first name\n",
    "firstname = 'brett'"
   ]
  },
  {
   "cell_type": "code",
   "execution_count": 0,
   "metadata": {
    "colab": {},
    "colab_type": "code",
    "id": "jLcFh3fyoodL"
   },
   "outputs": [],
   "source": [
    "# Assign the following pointer to your last name\n",
    "lastname = 'savoie'"
   ]
  },
  {
   "cell_type": "code",
   "execution_count": 0,
   "metadata": {
    "colab": {},
    "colab_type": "code",
    "id": "0hQMmaRmoqTi"
   },
   "outputs": [],
   "source": [
    "# Use firstname and lastname to make a new string with your fullname\n",
    "fullname = firstname + \" \" + lastname"
   ]
  },
  {
   "cell_type": "code",
   "execution_count": 10,
   "metadata": {
    "colab": {
     "base_uri": "https://localhost:8080/",
     "height": 34
    },
    "colab_type": "code",
    "executionInfo": {
     "elapsed": 805,
     "status": "ok",
     "timestamp": 1579370997181,
     "user": {
      "displayName": "Brett Savoie",
      "photoUrl": "",
      "userId": "11084403397391204350"
     },
     "user_tz": 300
    },
    "id": "AAhZAtywosdc",
    "outputId": "1aa959e1-edb4-4ab4-ffa7-f3cb4a06779e"
   },
   "outputs": [
    {
     "name": "stdout",
     "output_type": "stream",
     "text": [
      "brett savoie\n"
     ]
    }
   ],
   "source": [
    "# print your fullname with all lowercase letters using the strings defined above\n",
    "print(fullname.lower())"
   ]
  },
  {
   "cell_type": "code",
   "execution_count": 11,
   "metadata": {
    "colab": {
     "base_uri": "https://localhost:8080/",
     "height": 34
    },
    "colab_type": "code",
    "executionInfo": {
     "elapsed": 843,
     "status": "ok",
     "timestamp": 1579370999553,
     "user": {
      "displayName": "Brett Savoie",
      "photoUrl": "",
      "userId": "11084403397391204350"
     },
     "user_tz": 300
    },
    "id": "PaDmiZbKovMF",
    "outputId": "37d142d5-b88f-41b1-8e5a-5e0fbbc42c0c"
   },
   "outputs": [
    {
     "name": "stdout",
     "output_type": "stream",
     "text": [
      "Brett Savoie\n"
     ]
    }
   ],
   "source": [
    "# print your fullname with the first letter of each name capitalized using the strings defined above\n",
    "print(fullname.title())"
   ]
  },
  {
   "cell_type": "markdown",
   "metadata": {
    "colab_type": "text",
    "id": "2H03icO6gtog"
   },
   "source": [
    "### Floats"
   ]
  },
  {
   "cell_type": "code",
   "execution_count": 14,
   "metadata": {
    "colab": {
     "base_uri": "https://localhost:8080/",
     "height": 34
    },
    "colab_type": "code",
    "executionInfo": {
     "elapsed": 445,
     "status": "ok",
     "timestamp": 1579371040255,
     "user": {
      "displayName": "Brett Savoie",
      "photoUrl": "",
      "userId": "11084403397391204350"
     },
     "user_tz": 300
    },
    "id": "PYbdvH6ybJyR",
    "outputId": "6e34c7c4-2029-476f-bc2e-2846580fcc3a"
   },
   "outputs": [
    {
     "name": "stdout",
     "output_type": "stream",
     "text": [
      "fav = 7.0\n"
     ]
    }
   ],
   "source": [
    "# Assign your favorite number as a float (fav)\n",
    "fav = 7.0\n",
    "print(\"fav = {}\".format(fav))"
   ]
  },
  {
   "cell_type": "code",
   "execution_count": 15,
   "metadata": {
    "colab": {
     "base_uri": "https://localhost:8080/",
     "height": 34
    },
    "colab_type": "code",
    "executionInfo": {
     "elapsed": 941,
     "status": "ok",
     "timestamp": 1579371054865,
     "user": {
      "displayName": "Brett Savoie",
      "photoUrl": "",
      "userId": "11084403397391204350"
     },
     "user_tz": 300
    },
    "id": "PdpkvrCMpE0V",
    "outputId": "cbd65cfd-8e67-4d09-ce44-b59d88921cb9"
   },
   "outputs": [
    {
     "name": "stdout",
     "output_type": "stream",
     "text": [
      "wst = 1.0\n"
     ]
    }
   ],
   "source": [
    "# Assign your least favorite number as a float (wst)\n",
    "wst = 1.0\n",
    "print(\"wst = {}\".format(wst))"
   ]
  },
  {
   "cell_type": "code",
   "execution_count": 16,
   "metadata": {
    "colab": {
     "base_uri": "https://localhost:8080/",
     "height": 34
    },
    "colab_type": "code",
    "executionInfo": {
     "elapsed": 403,
     "status": "ok",
     "timestamp": 1579371063106,
     "user": {
      "displayName": "Brett Savoie",
      "photoUrl": "",
      "userId": "11084403397391204350"
     },
     "user_tz": 300
    },
    "id": "n2hc02vQpIKn",
    "outputId": "77ff08ee-22ef-46be-f254-5190ab9290b7"
   },
   "outputs": [
    {
     "name": "stdout",
     "output_type": "stream",
     "text": [
      "8.0\n"
     ]
    }
   ],
   "source": [
    "# Print the sum of fav and wst\n",
    "print(fav + wst)"
   ]
  },
  {
   "cell_type": "code",
   "execution_count": 17,
   "metadata": {
    "colab": {
     "base_uri": "https://localhost:8080/",
     "height": 34
    },
    "colab_type": "code",
    "executionInfo": {
     "elapsed": 428,
     "status": "ok",
     "timestamp": 1579371071024,
     "user": {
      "displayName": "Brett Savoie",
      "photoUrl": "",
      "userId": "11084403397391204350"
     },
     "user_tz": 300
    },
    "id": "CWi8T2nKpO3G",
    "outputId": "999a088e-b94f-47d7-9344-54b36f947593"
   },
   "outputs": [
    {
     "name": "stdout",
     "output_type": "stream",
     "text": [
      "6.0\n"
     ]
    }
   ],
   "source": [
    "# Print the fav minus wst\n",
    "print(fav - wst)"
   ]
  },
  {
   "cell_type": "code",
   "execution_count": 18,
   "metadata": {
    "colab": {
     "base_uri": "https://localhost:8080/",
     "height": 34
    },
    "colab_type": "code",
    "executionInfo": {
     "elapsed": 820,
     "status": "ok",
     "timestamp": 1579371110796,
     "user": {
      "displayName": "Brett Savoie",
      "photoUrl": "",
      "userId": "11084403397391204350"
     },
     "user_tz": 300
    },
    "id": "VWwdyD-vpS5L",
    "outputId": "27e1e54f-f5e3-47e3-cd7e-c4a125f8a191"
   },
   "outputs": [
    {
     "name": "stdout",
     "output_type": "stream",
     "text": [
      "7.0\n"
     ]
    }
   ],
   "source": [
    "# Print the product of fav and wst\n",
    "print(fav * wst)"
   ]
  },
  {
   "cell_type": "code",
   "execution_count": 19,
   "metadata": {
    "colab": {
     "base_uri": "https://localhost:8080/",
     "height": 34
    },
    "colab_type": "code",
    "executionInfo": {
     "elapsed": 877,
     "status": "ok",
     "timestamp": 1579371117017,
     "user": {
      "displayName": "Brett Savoie",
      "photoUrl": "",
      "userId": "11084403397391204350"
     },
     "user_tz": 300
    },
    "id": "NdAkgkqSpWz_",
    "outputId": "82312d70-aa17-4a2d-8117-f154a8a53567"
   },
   "outputs": [
    {
     "name": "stdout",
     "output_type": "stream",
     "text": [
      "7.0\n"
     ]
    }
   ],
   "source": [
    "# Print fav divided by wst\n",
    "print(fav/wst)"
   ]
  },
  {
   "cell_type": "code",
   "execution_count": 20,
   "metadata": {
    "colab": {
     "base_uri": "https://localhost:8080/",
     "height": 34
    },
    "colab_type": "code",
    "executionInfo": {
     "elapsed": 947,
     "status": "ok",
     "timestamp": 1579371123058,
     "user": {
      "displayName": "Brett Savoie",
      "photoUrl": "",
      "userId": "11084403397391204350"
     },
     "user_tz": 300
    },
    "id": "nQ1DdMszpbfb",
    "outputId": "d4ea6a6e-40d3-4935-fa7a-1fc660ba36c1"
   },
   "outputs": [
    {
     "name": "stdout",
     "output_type": "stream",
     "text": [
      "7.0\n"
     ]
    }
   ],
   "source": [
    "# Print fav to the wst power\n",
    "print(fav**wst)"
   ]
  },
  {
   "cell_type": "code",
   "execution_count": 21,
   "metadata": {
    "colab": {
     "base_uri": "https://localhost:8080/",
     "height": 34
    },
    "colab_type": "code",
    "executionInfo": {
     "elapsed": 824,
     "status": "ok",
     "timestamp": 1579371131813,
     "user": {
      "displayName": "Brett Savoie",
      "photoUrl": "",
      "userId": "11084403397391204350"
     },
     "user_tz": 300
    },
    "id": "2_QsxLeVpej-",
    "outputId": "aa05665d-1fad-49d9-ac98-35c42830a7d8"
   },
   "outputs": [
    {
     "name": "stdout",
     "output_type": "stream",
     "text": [
      "0.0\n"
     ]
    }
   ],
   "source": [
    "# Print the remainder of fav divided by wst\n",
    "print(fav%wst)"
   ]
  },
  {
   "cell_type": "markdown",
   "metadata": {
    "colab_type": "text",
    "id": "c49YSBGjjCm_"
   },
   "source": [
    "## Data Structures\n",
    "The following exercises involve manipulating, creating, and finding things in data structures. \n",
    "\n",
    "### Lists"
   ]
  },
  {
   "cell_type": "code",
   "execution_count": 0,
   "metadata": {
    "colab": {},
    "colab_type": "code",
    "id": "mQLV54CQjSco"
   },
   "outputs": [],
   "source": [
    "# Here are a couple lists that we will use\n",
    "a = [1,0,0,0,3,4,2]\n",
    "b = [5,3,1,1,1,0,2,0,0,0,20]"
   ]
  },
  {
   "cell_type": "code",
   "execution_count": 26,
   "metadata": {
    "colab": {
     "base_uri": "https://localhost:8080/",
     "height": 34
    },
    "colab_type": "code",
    "executionInfo": {
     "elapsed": 425,
     "status": "ok",
     "timestamp": 1579371183309,
     "user": {
      "displayName": "Brett Savoie",
      "photoUrl": "",
      "userId": "11084403397391204350"
     },
     "user_tz": 300
    },
    "id": "1l5orhUnjtKn",
    "outputId": "a5faee20-e503-4d33-d06c-5394ad80b286"
   },
   "outputs": [
    {
     "name": "stdout",
     "output_type": "stream",
     "text": [
      "[0, 0, 0, 1, 2, 3, 4]\n"
     ]
    }
   ],
   "source": [
    "# Sort list a and print the result\n",
    "print(sorted(a))"
   ]
  },
  {
   "cell_type": "code",
   "execution_count": 27,
   "metadata": {
    "colab": {
     "base_uri": "https://localhost:8080/",
     "height": 34
    },
    "colab_type": "code",
    "executionInfo": {
     "elapsed": 860,
     "status": "ok",
     "timestamp": 1579371198775,
     "user": {
      "displayName": "Brett Savoie",
      "photoUrl": "",
      "userId": "11084403397391204350"
     },
     "user_tz": 300
    },
    "id": "s1BFel99jvU-",
    "outputId": "d49bbbf7-beca-4645-82ef-9c80990dadc0"
   },
   "outputs": [
    {
     "name": "stdout",
     "output_type": "stream",
     "text": [
      "[20, 5, 3, 2, 1, 1, 1, 0, 0, 0, 0]\n"
     ]
    }
   ],
   "source": [
    "# Sort list b in descending order and print the result\n",
    "print(sorted(b,reverse=True))"
   ]
  },
  {
   "cell_type": "code",
   "execution_count": 31,
   "metadata": {
    "colab": {
     "base_uri": "https://localhost:8080/",
     "height": 34
    },
    "colab_type": "code",
    "executionInfo": {
     "elapsed": 844,
     "status": "ok",
     "timestamp": 1579371282101,
     "user": {
      "displayName": "Brett Savoie",
      "photoUrl": "",
      "userId": "11084403397391204350"
     },
     "user_tz": 300
    },
    "id": "3bU4rZ9VjxrQ",
    "outputId": "2e358ee3-5158-4432-abf2-a75a6d97240f"
   },
   "outputs": [
    {
     "name": "stdout",
     "output_type": "stream",
     "text": [
      "[0, 0, 0, 0, 0, 0, 0, 1, 1, 1, 1, 2, 2, 3, 3, 4, 5, 20]\n"
     ]
    }
   ],
   "source": [
    "# Create a new list c comprised of all of the elements of a and b and sorted in ascending order. print c.\n",
    "c = a + b\n",
    "c.sort()\n",
    "print(c)"
   ]
  },
  {
   "cell_type": "code",
   "execution_count": 32,
   "metadata": {
    "colab": {
     "base_uri": "https://localhost:8080/",
     "height": 34
    },
    "colab_type": "code",
    "executionInfo": {
     "elapsed": 445,
     "status": "ok",
     "timestamp": 1579371285675,
     "user": {
      "displayName": "Brett Savoie",
      "photoUrl": "",
      "userId": "11084403397391204350"
     },
     "user_tz": 300
    },
    "id": "BEKmqJJPkJ3t",
    "outputId": "79e3522e-70ef-479b-c472-aaa6940bab05"
   },
   "outputs": [
    {
     "name": "stdout",
     "output_type": "stream",
     "text": [
      "[3, 4, 5, 20]\n"
     ]
    }
   ],
   "source": [
    "# Create a new list d consisting of the last four elements of c\n",
    "d = c[-4:]\n",
    "print(d)"
   ]
  },
  {
   "cell_type": "code",
   "execution_count": 33,
   "metadata": {
    "colab": {
     "base_uri": "https://localhost:8080/",
     "height": 34
    },
    "colab_type": "code",
    "executionInfo": {
     "elapsed": 878,
     "status": "ok",
     "timestamp": 1579371328562,
     "user": {
      "displayName": "Brett Savoie",
      "photoUrl": "",
      "userId": "11084403397391204350"
     },
     "user_tz": 300
    },
    "id": "rB2wm1LRkZqo",
    "outputId": "323f4680-2356-47bb-e2a6-88ca1a11f6dc"
   },
   "outputs": [
    {
     "name": "stdout",
     "output_type": "stream",
     "text": [
      "[1, 2, 3]\n"
     ]
    }
   ],
   "source": [
    "# Using a list comprehension: make a new list e that contains the indices\n",
    "# in a that correspond to 0\n",
    "e = [ count for count,_ in enumerate(a) if _ == 0 ]\n",
    "print(e)"
   ]
  },
  {
   "cell_type": "code",
   "execution_count": 34,
   "metadata": {
    "colab": {
     "base_uri": "https://localhost:8080/",
     "height": 34
    },
    "colab_type": "code",
    "executionInfo": {
     "elapsed": 901,
     "status": "ok",
     "timestamp": 1579371352215,
     "user": {
      "displayName": "Brett Savoie",
      "photoUrl": "",
      "userId": "11084403397391204350"
     },
     "user_tz": 300
    },
    "id": "MG1OTG8ekkOD",
    "outputId": "06d22c50-032e-4139-9d8a-596bbaa05cd1"
   },
   "outputs": [
    {
     "name": "stdout",
     "output_type": "stream",
     "text": [
      "[5, 3, 1, 1, 1, 2]\n"
     ]
    }
   ],
   "source": [
    "# Using a list comprehension: make a new list f that contains the numbers\n",
    "# in b that are greater than 0 and less than 10\n",
    "f = [ _ for _ in b if _ > 0 and _ < 10 ]\n",
    "print(f)"
   ]
  },
  {
   "cell_type": "markdown",
   "metadata": {
    "colab_type": "text",
    "id": "-OjNsIjelmpk"
   },
   "source": [
    "## sets"
   ]
  },
  {
   "cell_type": "code",
   "execution_count": 35,
   "metadata": {
    "colab": {
     "base_uri": "https://localhost:8080/",
     "height": 50
    },
    "colab_type": "code",
    "executionInfo": {
     "elapsed": 847,
     "status": "ok",
     "timestamp": 1579371364195,
     "user": {
      "displayName": "Brett Savoie",
      "photoUrl": "",
      "userId": "11084403397391204350"
     },
     "user_tz": 300
    },
    "id": "ISQO1NEklowA",
    "outputId": "0abc154a-9bd9-4e2d-c3b0-d38cabd01c0a"
   },
   "outputs": [
    {
     "name": "stdout",
     "output_type": "stream",
     "text": [
      "{0, 1, 2, 3, 4}\n",
      "{0, 1, 2, 3, 5, 20}\n"
     ]
    }
   ],
   "source": [
    "# create sets g and h from lists a and b\n",
    "g = set(a)\n",
    "h = set(b)\n",
    "print(g)\n",
    "print(h)"
   ]
  },
  {
   "cell_type": "code",
   "execution_count": 39,
   "metadata": {
    "colab": {
     "base_uri": "https://localhost:8080/",
     "height": 34
    },
    "colab_type": "code",
    "executionInfo": {
     "elapsed": 875,
     "status": "ok",
     "timestamp": 1579371656626,
     "user": {
      "displayName": "Brett Savoie",
      "photoUrl": "",
      "userId": "11084403397391204350"
     },
     "user_tz": 300
    },
    "id": "xrs0chgXmMpC",
    "outputId": "9839e1e7-25d0-4af0-c1de-7fcf2d8d82ff"
   },
   "outputs": [
    {
     "data": {
      "text/plain": [
       "{4}"
      ]
     },
     "execution_count": 39,
     "metadata": {
      "tags": []
     },
     "output_type": "execute_result"
    }
   ],
   "source": [
    "# Use the approriate set method to print out the numbers that are only in g and not in h\n",
    "g.difference(h)"
   ]
  },
  {
   "cell_type": "code",
   "execution_count": 40,
   "metadata": {
    "colab": {
     "base_uri": "https://localhost:8080/",
     "height": 34
    },
    "colab_type": "code",
    "executionInfo": {
     "elapsed": 1133,
     "status": "ok",
     "timestamp": 1579371753405,
     "user": {
      "displayName": "Brett Savoie",
      "photoUrl": "",
      "userId": "11084403397391204350"
     },
     "user_tz": 300
    },
    "id": "HHzlVGtRmYCi",
    "outputId": "ee67e1aa-4c9a-46c1-f4d6-4962d5253ec8"
   },
   "outputs": [
    {
     "data": {
      "text/plain": [
       "{5, 20}"
      ]
     },
     "execution_count": 40,
     "metadata": {
      "tags": []
     },
     "output_type": "execute_result"
    }
   ],
   "source": [
    "# Use the approriate set method to print out the numbers that are in h and not in g\n",
    "h.difference(g)"
   ]
  },
  {
   "cell_type": "code",
   "execution_count": 41,
   "metadata": {
    "colab": {
     "base_uri": "https://localhost:8080/",
     "height": 34
    },
    "colab_type": "code",
    "executionInfo": {
     "elapsed": 882,
     "status": "ok",
     "timestamp": 1579371778590,
     "user": {
      "displayName": "Brett Savoie",
      "photoUrl": "",
      "userId": "11084403397391204350"
     },
     "user_tz": 300
    },
    "id": "JvNiFP3ym7LT",
    "outputId": "0db80df3-41b5-4b46-dcf0-78d2b91d4e58"
   },
   "outputs": [
    {
     "name": "stdout",
     "output_type": "stream",
     "text": [
      "{0, 1, 2, 3, 4, 5, 20}\n"
     ]
    }
   ],
   "source": [
    "# Create a new set i that combines the elements in g and h\n",
    "i = g.union(h)\n",
    "print(i)"
   ]
  },
  {
   "cell_type": "code",
   "execution_count": 42,
   "metadata": {
    "colab": {
     "base_uri": "https://localhost:8080/",
     "height": 34
    },
    "colab_type": "code",
    "executionInfo": {
     "elapsed": 837,
     "status": "ok",
     "timestamp": 1579371800739,
     "user": {
      "displayName": "Brett Savoie",
      "photoUrl": "",
      "userId": "11084403397391204350"
     },
     "user_tz": 300
    },
    "id": "KtVpha-pl4K5",
    "outputId": "7166def9-3b60-4605-d0fa-fe12938bbc82"
   },
   "outputs": [
    {
     "name": "stdout",
     "output_type": "stream",
     "text": [
      "{0, 1, 2, 3}\n"
     ]
    }
   ],
   "source": [
    "# Using set methods print out the numbers that are in both g and h\n",
    "print(g.intersection(h).union(h.intersection(g)))"
   ]
  },
  {
   "cell_type": "markdown",
   "metadata": {
    "colab_type": "text",
    "id": "5hwwW1KNnCau"
   },
   "source": [
    "### Dictionaries"
   ]
  },
  {
   "cell_type": "code",
   "execution_count": 43,
   "metadata": {
    "colab": {
     "base_uri": "https://localhost:8080/",
     "height": 34
    },
    "colab_type": "code",
    "executionInfo": {
     "elapsed": 881,
     "status": "ok",
     "timestamp": 1579371848511,
     "user": {
      "displayName": "Brett Savoie",
      "photoUrl": "",
      "userId": "11084403397391204350"
     },
     "user_tz": 300
    },
    "id": "w1fFA2v_nFff",
    "outputId": "a23b54e9-84c7-46f5-f7e9-d6ca51a76951"
   },
   "outputs": [
    {
     "name": "stdout",
     "output_type": "stream",
     "text": [
      "{'one': 1, 'two': 2, 'three': 3}\n"
     ]
    }
   ],
   "source": [
    "# Using a for loop: create a dictionary j based on the following keys and values\n",
    "keys = [\"one\",\"two\",\"three\"]\n",
    "values = [1,2,3]\n",
    "j = { }\n",
    "for i in range(len(keys)):\n",
    "  j[keys[i]] = values[i]\n",
    "print(j)"
   ]
  },
  {
   "cell_type": "code",
   "execution_count": 44,
   "metadata": {
    "colab": {
     "base_uri": "https://localhost:8080/",
     "height": 34
    },
    "colab_type": "code",
    "executionInfo": {
     "elapsed": 362,
     "status": "ok",
     "timestamp": 1579371900772,
     "user": {
      "displayName": "Brett Savoie",
      "photoUrl": "",
      "userId": "11084403397391204350"
     },
     "user_tz": 300
    },
    "id": "5ZAx5Bhvn2_g",
    "outputId": "e4382386-ba86-4561-d4ab-5e8ae8cbcb4d"
   },
   "outputs": [
    {
     "name": "stdout",
     "output_type": "stream",
     "text": [
      "{'one': 1, 'two': 2, 'three': 3}\n"
     ]
    }
   ],
   "source": [
    "# Create the same dictionary as j but use a dictionary comprehension instead \n",
    "k = { key:values[ind] for ind,key in enumerate(keys) }\n",
    "print(k)"
   ]
  },
  {
   "cell_type": "code",
   "execution_count": 45,
   "metadata": {
    "colab": {
     "base_uri": "https://localhost:8080/",
     "height": 67
    },
    "colab_type": "code",
    "executionInfo": {
     "elapsed": 859,
     "status": "ok",
     "timestamp": 1579371939937,
     "user": {
      "displayName": "Brett Savoie",
      "photoUrl": "",
      "userId": "11084403397391204350"
     },
     "user_tz": 300
    },
    "id": "hScbYzKlqCs2",
    "outputId": "d66a9bd7-e57e-4783-8fe9-066f24d4ef37"
   },
   "outputs": [
    {
     "name": "stdout",
     "output_type": "stream",
     "text": [
      "1.0\n",
      "2.0\n",
      "3.0\n"
     ]
    }
   ],
   "source": [
    "# Create a loop over the keys in k and print out the keyed values as floats\n",
    "for i in k.keys():\n",
    "  print(float(k[i]))"
   ]
  },
  {
   "cell_type": "markdown",
   "metadata": {
    "colab_type": "text",
    "id": "ziY-HBCMqPzX"
   },
   "source": [
    "## Functions\n",
    "The following exercises ask you to write your own functions. They will be tested on generic input arguments. "
   ]
  },
  {
   "cell_type": "code",
   "execution_count": 0,
   "metadata": {
    "colab": {},
    "colab_type": "code",
    "id": "HML8WRRSqfby"
   },
   "outputs": [],
   "source": [
    "# Write a function named 'factorial' that prints the factorial of an arbitrary integer\n",
    "def factorial(num):\n",
    "  val = 1\n",
    "  for i in range(num):\n",
    "    val *= i + 1\n",
    "  return val "
   ]
  },
  {
   "cell_type": "code",
   "execution_count": 49,
   "metadata": {
    "colab": {
     "base_uri": "https://localhost:8080/",
     "height": 34
    },
    "colab_type": "code",
    "executionInfo": {
     "elapsed": 434,
     "status": "ok",
     "timestamp": 1579372364922,
     "user": {
      "displayName": "Brett Savoie",
      "photoUrl": "",
      "userId": "11084403397391204350"
     },
     "user_tz": 300
    },
    "id": "5Jq92jJ87Zns",
    "outputId": "5b12fcf0-6f0d-48be-853c-3ad1f9ff1084"
   },
   "outputs": [
    {
     "data": {
      "text/plain": [
       "6"
      ]
     },
     "execution_count": 49,
     "metadata": {
      "tags": []
     },
     "output_type": "execute_result"
    }
   ],
   "source": [
    "factorial(3)"
   ]
  },
  {
   "cell_type": "code",
   "execution_count": 0,
   "metadata": {
    "colab": {},
    "colab_type": "code",
    "id": "xziYlRt0qorK"
   },
   "outputs": [],
   "source": [
    "# Modify the factorial function so that it returns 0 if num is larger than 100\n",
    "def factorial(num):\n",
    "  if num > 100:\n",
    "    return 0\n",
    "  val = 1\n",
    "  for i in range(num):\n",
    "    val *= i + 1\n",
    "  return val"
   ]
  },
  {
   "cell_type": "code",
   "execution_count": 51,
   "metadata": {
    "colab": {
     "base_uri": "https://localhost:8080/",
     "height": 34
    },
    "colab_type": "code",
    "executionInfo": {
     "elapsed": 390,
     "status": "ok",
     "timestamp": 1579372378602,
     "user": {
      "displayName": "Brett Savoie",
      "photoUrl": "",
      "userId": "11084403397391204350"
     },
     "user_tz": 300
    },
    "id": "jv4senyo7dqu",
    "outputId": "d551cdaa-874e-47e5-b421-b1e57cbc7285"
   },
   "outputs": [
    {
     "data": {
      "text/plain": [
       "0"
      ]
     },
     "execution_count": 51,
     "metadata": {
      "tags": []
     },
     "output_type": "execute_result"
    }
   ],
   "source": [
    "factorial(101)"
   ]
  },
  {
   "cell_type": "code",
   "execution_count": 0,
   "metadata": {
    "colab": {},
    "colab_type": "code",
    "id": "L3RLOkCWsjnY"
   },
   "outputs": [],
   "source": [
    "# Write a function that reads a file and returns all of the numbers in it as a list of floats\n",
    "# Note: The function should be able to identify numbers like \"1098293,\" that have a comma or other character after them\n",
    "# Hint: The \"try\" control statement is very useful for something like this.\n",
    "def get_numbers(name):\n",
    "  numbers = []\n",
    "  with open(name,'r') as f:\n",
    "    for lines in f:\n",
    "      for words in lines.split():\n",
    "        try:\n",
    "          numbers += [float(words.strip(',.?!*&^%$#@'))] # STRIP WHAT YOU WANT BUT AT LEAST COMMAS\n",
    "        except:\n",
    "          pass\n",
    "  return numbers"
   ]
  },
  {
   "cell_type": "code",
   "execution_count": 53,
   "metadata": {
    "colab": {
     "base_uri": "https://localhost:8080/",
     "height": 54
    },
    "colab_type": "code",
    "executionInfo": {
     "elapsed": 783,
     "status": "ok",
     "timestamp": 1579372385691,
     "user": {
      "displayName": "Brett Savoie",
      "photoUrl": "",
      "userId": "11084403397391204350"
     },
     "user_tz": 300
    },
    "id": "ll61JeWus2j4",
    "outputId": "549ef29a-e717-4ddd-c829-e78b4b08d1fb"
   },
   "outputs": [
    {
     "name": "stdout",
     "output_type": "stream",
     "text": [
      "[1.9, 1098293.0, 1059192.0, 1059060.0, 1037212.0, 1037213.0, 1037103.0, 1029170.0, 1037104.0, 1015526.0, 1016960.0, 10001.0, 77380.0, 800.0, 2436.0, 32.14583516, 29.0, 1.9, 2.0, 2.0, 1.0, 1.0, 1.9, 100.0, 1.9, -11.0, 498.0, 1.9, 8.0, 29.0, 1910.106, 2003.0, 8.0, 1.9, 0.5, 2.5, 1.0, 5.0, 50.0, 29.0, 1.0, 29.0, 5.0, 1.0, 5.0, 1.0, 5.0, 1910.1028, 500.0, 19.5, 1.9, -11.0, 1.2, 7.8, 498.0, 78.12, 80.0, 75.0, 0.88, 25.0, 1.88, 23.5, 2.13, 2.77, 2.8, 1.9, 50.0, 20.0, 44.5, 4.0, 1.9, 0.0, 25.0, 50.0, 250.0, 103.0, 5.0, 0.0, 50.0, 100.0, 200.0, 103.0, 5.0, 25.0, 50.0, 100.0, 103.0, 5.0, 0.0, 25.0, 50.0, 100.0, 103.0, 5.0, 25.0, 0.0, 50.0, 100.0, 200.0, 103.0, 5.0, 50.0, 0.0, 25.0, 103.0, 25.0, 25.0, 50.0, 1.9, 5.3, 96.0, 203.0, 10.0, 48.0, 202.0, 100.0, 72.0, 201.0, 1.9, 3.0, 3.0, 3.0, 1.9, 3.0, 3.0, 3.0, 10.0, 3.0, 302.0, 302.0, 304.0, 10.0, 302.0, 302.0, 304.0, 313.0, 602.0, 82.0, 12.0, 1.9, 68.13, 111.0, 65.0, 2.0, 3.0, 0.0, 3.0, 20.0, 1.9, 50.0, 50.0, 50.0, 50.0]\n"
     ]
    }
   ],
   "source": [
    "# Test your get_numbers function on the 'benzene_SDS.txt' file supplied with the homework\n",
    "numbers = get_numbers('benzene_SDS.txt')\n",
    "print(numbers)"
   ]
  },
  {
   "cell_type": "code",
   "execution_count": 0,
   "metadata": {
    "colab": {},
    "colab_type": "code",
    "id": "OCIRu9Fhrnrf"
   },
   "outputs": [],
   "source": [
    "# Write a function that accepts a filename and list of strings as inputs and \n",
    "# returns a boolean indicating if any of the strings are in the file.\n",
    "# Note: the function should only return True is both string and case match.\n",
    "def word_search(name,match):\n",
    "  matches = set(match) \n",
    "  with open(name,'r') as f:\n",
    "    for lines in f:\n",
    "      if matches.intersection(set(lines.split())):\n",
    "        return True\n",
    "  return False "
   ]
  },
  {
   "cell_type": "code",
   "execution_count": 55,
   "metadata": {
    "colab": {
     "base_uri": "https://localhost:8080/",
     "height": 67
    },
    "colab_type": "code",
    "executionInfo": {
     "elapsed": 358,
     "status": "ok",
     "timestamp": 1579372391948,
     "user": {
      "displayName": "Brett Savoie",
      "photoUrl": "",
      "userId": "11084403397391204350"
     },
     "user_tz": 300
    },
    "id": "1tTgABFKxOoF",
    "outputId": "b08698de-0395-4c96-8746-c3cc65baa485"
   },
   "outputs": [
    {
     "name": "stdout",
     "output_type": "stream",
     "text": [
      "True\n",
      "True\n",
      "False\n"
     ]
    }
   ],
   "source": [
    "# Test your word_search function on the 'benzene_SDS.txt' file supplied with the homework \n",
    "# with the following input strings\n",
    "print(word_search('benzene_SDS.txt',[\"the\"]))\n",
    "print(word_search('benzene_SDS.txt',[\"Lethal\"]))\n",
    "print(word_search('benzene_SDS.txt',[\"canada\"]))"
   ]
  },
  {
   "cell_type": "code",
   "execution_count": 0,
   "metadata": {
    "colab": {},
    "colab_type": "code",
    "id": "Y2uh_kCXymN-"
   },
   "outputs": [],
   "source": [
    "# Modify your word_search function with an optional argument so that it returns \n",
    "# case-insensitive matches\n",
    "def word_search(name,match,case_insensitive=False):\n",
    "  if case_insensitive is True:\n",
    "    match = [ _.lower() for _ in match ]\n",
    "  matches = set(match) \n",
    "  with open(name,'r') as f:\n",
    "    for lines in f:    \n",
    "      if case_insensitive is True:\n",
    "        if matches.intersection(set([ _.lower() for _ in lines.split() ])):\n",
    "          return True\n",
    "      else:  \n",
    "        if matches.intersection(set(lines.split())):\n",
    "          return True\n",
    "  return False "
   ]
  },
  {
   "cell_type": "code",
   "execution_count": 57,
   "metadata": {
    "colab": {
     "base_uri": "https://localhost:8080/",
     "height": 101
    },
    "colab_type": "code",
    "executionInfo": {
     "elapsed": 884,
     "status": "ok",
     "timestamp": 1579372401126,
     "user": {
      "displayName": "Brett Savoie",
      "photoUrl": "",
      "userId": "11084403397391204350"
     },
     "user_tz": 300
    },
    "id": "7KzMbGruzbuI",
    "outputId": "ce1515d9-0cf5-4e83-db0d-2b0a90ba61e9"
   },
   "outputs": [
    {
     "name": "stdout",
     "output_type": "stream",
     "text": [
      "False\n",
      "True\n",
      "True\n",
      "True\n",
      "False\n"
     ]
    }
   ],
   "source": [
    "# Test your modified word_search function on the 'benzene_SDS.txt' file supplied with the homework\n",
    "# with the following input strings\n",
    "print(word_search('benzene_SDS.txt',[\"canada\"],case_insensitive=False))\n",
    "print(word_search('benzene_SDS.txt',[\"Canada\"],case_insensitive=False))\n",
    "print(word_search('benzene_SDS.txt',[\"canada\"],case_insensitive=True))\n",
    "print(word_search('benzene_SDS.txt',[\"Canada\"],case_insensitive=True))\n",
    "print(word_search('benzene_SDS.txt',[\"cantfindme!\"],case_insensitive=True))"
   ]
  }
 ],
 "metadata": {
  "colab": {
   "collapsed_sections": [],
   "name": "HW1-solutions.ipynb",
   "provenance": [
    {
     "file_id": "1S-ZBbO5rpO24ftUjrVMrGlqcUzphE-gs",
     "timestamp": 1579370878013
    }
   ]
  },
  "kernelspec": {
   "display_name": "Python 3",
   "language": "python",
   "name": "python3"
  },
  "language_info": {
   "codemirror_mode": {
    "name": "ipython",
    "version": 3
   },
   "file_extension": ".py",
   "mimetype": "text/x-python",
   "name": "python",
   "nbconvert_exporter": "python",
   "pygments_lexer": "ipython3",
   "version": "3.7.1"
  },
  "toc": {
   "base_numbering": 1,
   "nav_menu": {},
   "number_sections": true,
   "sideBar": true,
   "skip_h1_title": true,
   "title_cell": "Table of Contents",
   "title_sidebar": "Contents",
   "toc_cell": true,
   "toc_position": {},
   "toc_section_display": true,
   "toc_window_display": true
  }
 },
 "nbformat": 4,
 "nbformat_minor": 1
}
